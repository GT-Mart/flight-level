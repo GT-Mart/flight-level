{
 "cells": [
  {
   "cell_type": "code",
   "execution_count": 7,
   "metadata": {},
   "outputs": [],
   "source": [
    "SHP_CLIENT_ID = \"\"\n",
    "SHP_CLIENT_SECRET = \"\"\n",
    "SHAREPOINT_URL = \"https://gtmart234.sharepoint.com\"  \n",
    "SHAREPOINT_SITE = \"https://gtmart234-my.sharepoint.com/personal/walter_gtmart1_com\""
   ]
  },
  {
   "cell_type": "code",
   "execution_count": 8,
   "metadata": {},
   "outputs": [
    {
     "ename": "ClientRequestException",
     "evalue": "(None, None, '401 Client Error: Unauthorized for url: https://gtmart234.sharepoint.com/_api/Web')",
     "output_type": "error",
     "traceback": [
      "\u001b[0;31m---------------------------------------------------------------------------\u001b[0m",
      "\u001b[0;31mHTTPError\u001b[0m                                 Traceback (most recent call last)",
      "File \u001b[0;32m~/.pyenv/versions/3.10.10/envs/venv-f-level/lib/python3.10/site-packages/office365/runtime/client_request.py:58\u001b[0m, in \u001b[0;36mClientRequest.execute_query\u001b[0;34m(self, query)\u001b[0m\n\u001b[1;32m     57\u001b[0m response \u001b[39m=\u001b[39m \u001b[39mself\u001b[39m\u001b[39m.\u001b[39mexecute_request_direct(request)\n\u001b[0;32m---> 58\u001b[0m response\u001b[39m.\u001b[39;49mraise_for_status()\n\u001b[1;32m     59\u001b[0m \u001b[39mself\u001b[39m\u001b[39m.\u001b[39mprocess_response(response, query)\n",
      "File \u001b[0;32m~/.pyenv/versions/3.10.10/envs/venv-f-level/lib/python3.10/site-packages/requests/models.py:1021\u001b[0m, in \u001b[0;36mResponse.raise_for_status\u001b[0;34m(self)\u001b[0m\n\u001b[1;32m   1020\u001b[0m \u001b[39mif\u001b[39;00m http_error_msg:\n\u001b[0;32m-> 1021\u001b[0m     \u001b[39mraise\u001b[39;00m HTTPError(http_error_msg, response\u001b[39m=\u001b[39m\u001b[39mself\u001b[39m)\n",
      "\u001b[0;31mHTTPError\u001b[0m: 401 Client Error: Unauthorized for url: https://gtmart234.sharepoint.com/_api/Web",
      "\nDuring handling of the above exception, another exception occurred:\n",
      "\u001b[0;31mClientRequestException\u001b[0m                    Traceback (most recent call last)",
      "Cell \u001b[0;32mIn[8], line 13\u001b[0m\n\u001b[1;32m     11\u001b[0m web \u001b[39m=\u001b[39m ctx\u001b[39m.\u001b[39mweb\n\u001b[1;32m     12\u001b[0m ctx\u001b[39m.\u001b[39mload(web)\n\u001b[0;32m---> 13\u001b[0m ctx\u001b[39m.\u001b[39;49mexecute_query()\n",
      "File \u001b[0;32m~/.pyenv/versions/3.10.10/envs/venv-f-level/lib/python3.10/site-packages/office365/runtime/client_runtime_context.py:187\u001b[0m, in \u001b[0;36mClientRuntimeContext.execute_query\u001b[0;34m(self)\u001b[0m\n\u001b[1;32m    185\u001b[0m \u001b[39mwhile\u001b[39;00m \u001b[39mself\u001b[39m\u001b[39m.\u001b[39mhas_pending_request:\n\u001b[1;32m    186\u001b[0m     qry \u001b[39m=\u001b[39m \u001b[39mself\u001b[39m\u001b[39m.\u001b[39m_get_next_query()\n\u001b[0;32m--> 187\u001b[0m     \u001b[39mself\u001b[39;49m\u001b[39m.\u001b[39;49mpending_request()\u001b[39m.\u001b[39;49mexecute_query(qry)\n",
      "File \u001b[0;32m~/.pyenv/versions/3.10.10/envs/venv-f-level/lib/python3.10/site-packages/office365/runtime/client_request.py:62\u001b[0m, in \u001b[0;36mClientRequest.execute_query\u001b[0;34m(self, query)\u001b[0m\n\u001b[1;32m     60\u001b[0m     \u001b[39mself\u001b[39m\u001b[39m.\u001b[39mafterExecute\u001b[39m.\u001b[39mnotify(response)\n\u001b[1;32m     61\u001b[0m \u001b[39mexcept\u001b[39;00m HTTPError \u001b[39mas\u001b[39;00m e:\n\u001b[0;32m---> 62\u001b[0m     \u001b[39mraise\u001b[39;00m ClientRequestException(\u001b[39m*\u001b[39me\u001b[39m.\u001b[39margs, response\u001b[39m=\u001b[39me\u001b[39m.\u001b[39mresponse)\n",
      "\u001b[0;31mClientRequestException\u001b[0m: (None, None, '401 Client Error: Unauthorized for url: https://gtmart234.sharepoint.com/_api/Web')"
     ]
    }
   ],
   "source": [
    "client_id = SHP_CLIENT_ID\n",
    "client_secret = SHP_CLIENT_SECRET\n",
    "site_url = SHAREPOINT_URL\n",
    "\n",
    "from office365.runtime.auth.client_credential import ClientCredential\n",
    "from office365.sharepoint.client_context import ClientContext\n",
    "\n",
    "\n",
    "creds = ClientCredential(client_id, client_secret)\n",
    "ctx = ClientContext(site_url).with_credentials(creds)\n",
    "web = ctx.web\n",
    "ctx.load(web)\n",
    "ctx.execute_query()\n"
   ]
  }
 ],
 "metadata": {
  "kernelspec": {
   "display_name": "venv-f-level",
   "language": "python",
   "name": "python3"
  },
  "language_info": {
   "codemirror_mode": {
    "name": "ipython",
    "version": 3
   },
   "file_extension": ".py",
   "mimetype": "text/x-python",
   "name": "python",
   "nbconvert_exporter": "python",
   "pygments_lexer": "ipython3",
   "version": "3.10.10"
  },
  "orig_nbformat": 4
 },
 "nbformat": 4,
 "nbformat_minor": 2
}
